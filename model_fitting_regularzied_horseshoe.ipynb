{
  "cells": [
    {
      "cell_type": "markdown",
      "metadata": {
        "id": "view-in-github",
        "colab_type": "text"
      },
      "source": [
        "<a href=\"https://colab.research.google.com/github/Christheoneoneil/stat330_final/blob/model_fitting/model_fitting_regularzied_horseshoe.ipynb\" target=\"_parent\"><img src=\"https://colab.research.google.com/assets/colab-badge.svg\" alt=\"Open In Colab\"/></a>"
      ]
    },
    {
      "cell_type": "markdown",
      "metadata": {
        "id": "b06MBAFmSIfx"
      },
      "source": [
        "#Relevant Imports\n"
      ]
    },
    {
      "cell_type": "code",
      "execution_count": 51,
      "metadata": {
        "id": "IYc-479GPZAa",
        "colab": {
          "base_uri": "https://localhost:8080/"
        },
        "outputId": "d5f279b1-ad2a-4400-83bb-6f962d5292d8"
      },
      "outputs": [
        {
          "output_type": "stream",
          "name": "stdout",
          "text": [
            "Looking in indexes: https://pypi.org/simple, https://us-python.pkg.dev/colab-wheels/public/simple/\n",
            "Requirement already satisfied: nest_asyncio in /usr/local/lib/python3.7/dist-packages (1.5.6)\n"
          ]
        }
      ],
      "source": [
        "import stan\n",
        "!pip install nest_asyncio\n",
        "import nest_asyncio\n",
        "nest_asyncio.apply()\n",
        "import pandas as pd\n",
        "\n",
        "import matplotlib.pyplot as plt\n",
        "import numpy as np\n",
        "import arviz as az\n",
        "import seaborn as sns\n",
        "%load_ext rpy2.ipython"
      ]
    },
    {
      "cell_type": "markdown",
      "metadata": {
        "id": "k_b-TZPNUgDv"
      },
      "source": [
        "#Preliminary Code Cleaning for Multinomial Logistic Regression"
      ]
    },
    {
      "cell_type": "code",
      "execution_count": 2,
      "metadata": {
        "id": "nIwv-ZxRU47Q"
      },
      "outputs": [],
      "source": [
        "def read_data(file_name: str):\n",
        "  \"\"\"\n",
        "  param filename: name of data file\n",
        "  returns: pandas data frame\n",
        "  \"\"\"\n",
        "  df = pd.read_csv(file_name, index_col = \"Unnamed: 0\")\n",
        "  df.dropna(axis = 0, how=\"any\", inplace=True)\n",
        "  df = df.loc[:,~df.columns.duplicated()]\n",
        "  return df"
      ]
    },
    {
      "cell_type": "code",
      "execution_count": 3,
      "metadata": {
        "id": "T2N019nSWTZ7"
      },
      "outputs": [],
      "source": [
        "def prep_data(df: pd.DataFrame, key: str, unwanted_cols: list):\n",
        "  \"\"\"\n",
        "  param df: data frame that needs to be formatted\n",
        "  key: key value associated with provided dictionary\n",
        "  unwanted_cols: columns that are ultimatly not needed for analysis\n",
        "  returns: prept data frame for logit regression\n",
        "  \"\"\"\n",
        "  from sklearn import preprocessing\n",
        "  df_copy = df.copy()\n",
        "  unnormed_cols = [\"STUDWGT\"]\n",
        "\n",
        "  if key == \"imputed\":\n",
        "    unnormed_cols = ['ACTComposite', 'SATMath', \n",
        "                     'SATVerbal', 'SATWriting'] + unnormed_cols\n",
        "    df_copy.drop(columns=[\"Unnamed: 0.1\"], inplace=True)\n",
        "\n",
        "  normalizer = preprocessing.MinMaxScaler()\n",
        "  normed_cols = normalizer.fit_transform(df[unnormed_cols])\n",
        "  df_copy[unnormed_cols] = normed_cols\n",
        "  df_copy.drop(columns=unwanted_cols, inplace=True)\n",
        "\n",
        "  recode_vars = [\"STRAT\", \"SELECTIVITY\", \"DOBYear\"]\n",
        "  for var in recode_vars:\n",
        "    unencoded_list = list(df_copy[var].unique())\n",
        "    encode_list = list(range(1, len(unencoded_list)+1))\n",
        "    df_copy[var].replace(unencoded_list, encode_list, inplace=True)\n",
        "  return(df_copy)"
      ]
    },
    {
      "cell_type": "code",
      "execution_count": 8,
      "metadata": {
        "id": "XD69j_rfUfm8"
      },
      "outputs": [],
      "source": [
        "df_dict = {\"imputed\": read_data(\"final_frame_imputed.csv\"),\n",
        "           \"non_imputed\": read_data(\"final_frame_non_imputed.csv\")}\n",
        "unnecessary_cols = [\"ACERECODE\"]\n",
        "for key, df in df_dict.items():\n",
        "  df_dict[key] = prep_data(df, key, unnecessary_cols)"
      ]
    },
    {
      "cell_type": "markdown",
      "metadata": {
        "id": "RvRIiikxSlhT"
      },
      "source": [
        "#Setting Up Model"
      ]
    },
    {
      "cell_type": "code",
      "execution_count": 76,
      "metadata": {
        "id": "k_zUYXChSbJZ"
      },
      "outputs": [],
      "source": [
        "\n",
        "def fit_model(model_code: str, X: np.array, Y: np.array, n: int, k: int, \n",
        "              flag_val: int):\n",
        "  \"\"\"\n",
        "  param model_code: stan formatted code for model\n",
        "  param X: nxk array of covariates \n",
        "  param Y: array of target values\n",
        "  param n: number of rows \n",
        "  param k: number of covarites\n",
        "  param flag_val: do predictive distrub flag value\n",
        "  reutrns: stan sampler object\n",
        "  \"\"\"\n",
        "  #Slab and golbal variables were randomly chosen we need to do more research\n",
        "  \n",
        "  mod = stan.build(model_code,data={\"X\": X, \"Y\": Y, \"n\": n, \"k\": k, \n",
        "                               \"do_prior_predictive\": flag_val, \"scale_icept\":1,\n",
        "                               \"scale_global\": 10/(k-10)/np.sqrt(n), \"nu_global\":1,\n",
        "                               \"nu_local\": 2,\"slab_scale\":1, \"slab_df\":20})\n",
        "  samples = mod.sample()\n",
        "  return samples\n"
      ]
    },
    {
      "cell_type": "code",
      "execution_count": 77,
      "metadata": {
        "id": "8-lYrQWBUgwq"
      },
      "outputs": [],
      "source": [
        "multinomial_log_stan_code = \"\"\"\n",
        "data {\n",
        "    int<lower=0> n ; # number of observations\n",
        "    int <lower=0> k ; # number of predictors\n",
        "    int <lower=1, upper=4> Y[n]; # outputs\n",
        "    matrix [n, k] X; # inputs\n",
        "    real <lower =0> scale_icept; # prior std for the intercept\n",
        "    real <lower =0> scale_global; # scale for the half - t prior for tau\n",
        "    real <lower =0> nu_global; # degrees of freedom for the half - t prior\n",
        "    # for tau\n",
        "    real <lower =1> nu_local; # degrees of freedom for the half - t priors\n",
        "    # for lambdas\n",
        "    real <lower =0> slab_scale; # slab scale for the regularized horseshoe\n",
        "    real <lower =0> slab_df; # slab degrees of freedom for the regularized\n",
        "    # horseshoe\n",
        "}\n",
        "\n",
        "parameters {\n",
        "    real beta0 ;\n",
        "    vector [k] z ;\n",
        "    real <lower =0> aux1_global;\n",
        "    real <lower =0> aux2_global;\n",
        "    vector <lower =0>[k] aux1_local;\n",
        "    vector <lower =0>[k] aux2_local;\n",
        "    real <lower =0> caux;\n",
        "}\n",
        "transformed parameters {\n",
        "    real <lower =0>tau ; # global shrinkage parameter\n",
        "    vector <lower =0>[k] lambda ; # local shrinkage parameter\n",
        "    vector <lower =0>[k] lambda_tilde ; # ’ truncated ’ local shrinkage parameter\n",
        "    real <lower =0> c ; # slab scale\n",
        "    vector[k] beta; # regression coefficients\n",
        "    vector[n] f; # latent function values\n",
        "    lambda = aux1_local.*sqrt(aux2_local);\n",
        "    tau = aux1_global*sqrt(aux2_global)*scale_global;\n",
        "    c = slab_scale * sqrt(caux);\n",
        "    lambda_tilde = sqrt(c^2*square(lambda)./(c ^2 + tau ^2*square(lambda)));\n",
        "    beta = z.*lambda_tilde*tau;\n",
        "    f = beta0 + X*beta ;\n",
        "}\n",
        "model {\n",
        "    # half - t priors for lambdas and tau , and inverse - gamma for c ^2\n",
        "    z ~ normal(0 , 1);\n",
        "    aux1_local ~ normal(0 , 1);\n",
        "    aux2_local ~ inv_gamma(0.5*nu_local, 0.5*nu_local);\n",
        "    aux1_global ~ normal(0 , 1);\n",
        "    aux2_global ~ inv_gamma(0.5*nu_global, 0.5*nu_global);\n",
        "    caux ~ inv_gamma(0.5*slab_df , 0.5*slab_df);\n",
        "    beta0 ~ normal(0, scale_icept);\n",
        "    Y ~ categorical_logit(f);\n",
        "}\n",
        "\"\"\""
      ]
    },
    {
      "cell_type": "code",
      "execution_count": 78,
      "metadata": {
        "id": "FICIRLDwVXAL",
        "colab": {
          "base_uri": "https://localhost:8080/"
        },
        "outputId": "caec4f34-c092-4477-8074-cabf14f55ea5"
      },
      "outputs": [
        {
          "output_type": "stream",
          "name": "stdout",
          "text": [
            "Building...\n"
          ]
        },
        {
          "output_type": "stream",
          "name": "stderr",
          "text": [
            "\n",
            "Building: found in cache, done.Messages from stanc:\n",
            "Warning in '/tmp/httpstan__9vpxt6v/model_pgd7dru4.stan', line 3, column 21: Comments beginning with # are deprecated. Please use // in place of # for line comments.\n",
            "Warning in '/tmp/httpstan__9vpxt6v/model_pgd7dru4.stan', line 4, column 22: Comments beginning with # are deprecated. Please use // in place of # for line comments.\n",
            "Warning in '/tmp/httpstan__9vpxt6v/model_pgd7dru4.stan', line 5, column 33: Comments beginning with # are deprecated. Please use // in place of # for line comments.\n",
            "Warning in '/tmp/httpstan__9vpxt6v/model_pgd7dru4.stan', line 6, column 21: Comments beginning with # are deprecated. Please use // in place of # for line comments.\n",
            "Warning in '/tmp/httpstan__9vpxt6v/model_pgd7dru4.stan', line 7, column 33: Comments beginning with # are deprecated. Please use // in place of # for line comments.\n",
            "Warning in '/tmp/httpstan__9vpxt6v/model_pgd7dru4.stan', line 8, column 34: Comments beginning with # are deprecated. Please use // in place of # for line comments.\n",
            "Warning in '/tmp/httpstan__9vpxt6v/model_pgd7dru4.stan', line 9, column 31: Comments beginning with # are deprecated. Please use // in place of # for line comments.\n",
            "Warning in '/tmp/httpstan__9vpxt6v/model_pgd7dru4.stan', line 10, column 4: Comments beginning with # are deprecated. Please use // in place of # for line comments.\n",
            "Warning in '/tmp/httpstan__9vpxt6v/model_pgd7dru4.stan', line 11, column 30: Comments beginning with # are deprecated. Please use // in place of # for line comments.\n",
            "Warning in '/tmp/httpstan__9vpxt6v/model_pgd7dru4.stan', line 12, column 4: Comments beginning with # are deprecated. Please use // in place of # for line comments.\n",
            "Warning in '/tmp/httpstan__9vpxt6v/model_pgd7dru4.stan', line 13, column 32: Comments beginning with # are deprecated. Please use // in place of # for line comments.\n",
            "Warning in '/tmp/httpstan__9vpxt6v/model_pgd7dru4.stan', line 14, column 29: Comments beginning with # are deprecated. Please use // in place of # for line comments.\n",
            "Warning in '/tmp/httpstan__9vpxt6v/model_pgd7dru4.stan', line 15, column 4: Comments beginning with # are deprecated. Please use // in place of # for line comments.\n",
            "Warning in '/tmp/httpstan__9vpxt6v/model_pgd7dru4.stan', line 28, column 25: Comments beginning with # are deprecated. Please use // in place of # for line comments.\n",
            "Warning in '/tmp/httpstan__9vpxt6v/model_pgd7dru4.stan', line 29, column 34: Comments beginning with # are deprecated. Please use // in place of # for line comments.\n",
            "Warning in '/tmp/httpstan__9vpxt6v/model_pgd7dru4.stan', line 30, column 40: Comments beginning with # are deprecated. Please use // in place of # for line comments.\n",
            "Warning in '/tmp/httpstan__9vpxt6v/model_pgd7dru4.stan', line 31, column 24: Comments beginning with # are deprecated. Please use // in place of # for line comments.\n",
            "Warning in '/tmp/httpstan__9vpxt6v/model_pgd7dru4.stan', line 32, column 20: Comments beginning with # are deprecated. Please use // in place of # for line comments.\n",
            "Warning in '/tmp/httpstan__9vpxt6v/model_pgd7dru4.stan', line 33, column 17: Comments beginning with # are deprecated. Please use // in place of # for line comments.\n",
            "Warning in '/tmp/httpstan__9vpxt6v/model_pgd7dru4.stan', line 42, column 4: Comments beginning with # are deprecated. Please use // in place of # for line comments.\n",
            "Warning: The parameter caux has no priors.\n",
            "Warning: The parameter beta0 has no priors.\n",
            "Warning: The parameter aux2_local has no priors.\n",
            "Warning: The parameter aux2_global has no priors.\n",
            "Sampling:   0%\n",
            "Sampling:   0% (1/8000)\n",
            "Sampling:   0% (2/8000)CRITICAL:httpstan:Exception during call to services function: `KeyboardInterrupt()`, traceback: `['  File \"/usr/local/lib/python3.7/dist-packages/nest_asyncio.py\", line 35, in run\\n    return loop.run_until_complete(task)\\n', '  File \"/usr/local/lib/python3.7/dist-packages/nest_asyncio.py\", line 84, in run_until_complete\\n    self._run_once()\\n', '  File \"/usr/local/lib/python3.7/dist-packages/nest_asyncio.py\", line 120, in _run_once\\n    handle._run()\\n', '  File \"/usr/lib/python3.7/asyncio/events.py\", line 88, in _run\\n    self._context.run(self._callback, *self._args)\\n', '  File \"/usr/lib/python3.7/asyncio/tasks.py\", line 329, in __wakeup\\n    self.__step()\\n', '  File \"/usr/local/lib/python3.7/dist-packages/nest_asyncio.py\", line 196, in step\\n    step_orig(task, exc)\\n', '  File \"/usr/lib/python3.7/asyncio/tasks.py\", line 249, in __step\\n    result = coro.send(None)\\n', '  File \"/usr/local/lib/python3.7/dist-packages/httpstan/services_stub.py\", line 122, in call\\n    readable, writeable, errored = select.select(potential_readers, [], [], 0.01)\\n']`\n",
            "CRITICAL:httpstan:Operation `operations/z3f53b5e` cancelled before finishing.\n",
            "CRITICAL:httpstan:Operation `operations/pqsb3zhj` cancelled before finishing.\n",
            "CRITICAL:httpstan:Operation `operations/p4rb6pov` cancelled before finishing.\n"
          ]
        },
        {
          "output_type": "stream",
          "name": "stdout",
          "text": [
            "Building...\n"
          ]
        },
        {
          "output_type": "stream",
          "name": "stderr",
          "text": [
            "\n",
            "Building: found in cache, done.Messages from stanc:\n",
            "Warning in '/tmp/httpstan__9vpxt6v/model_pgd7dru4.stan', line 3, column 21: Comments beginning with # are deprecated. Please use // in place of # for line comments.\n",
            "Warning in '/tmp/httpstan__9vpxt6v/model_pgd7dru4.stan', line 4, column 22: Comments beginning with # are deprecated. Please use // in place of # for line comments.\n",
            "Warning in '/tmp/httpstan__9vpxt6v/model_pgd7dru4.stan', line 5, column 33: Comments beginning with # are deprecated. Please use // in place of # for line comments.\n",
            "Warning in '/tmp/httpstan__9vpxt6v/model_pgd7dru4.stan', line 6, column 21: Comments beginning with # are deprecated. Please use // in place of # for line comments.\n",
            "Warning in '/tmp/httpstan__9vpxt6v/model_pgd7dru4.stan', line 7, column 33: Comments beginning with # are deprecated. Please use // in place of # for line comments.\n",
            "Warning in '/tmp/httpstan__9vpxt6v/model_pgd7dru4.stan', line 8, column 34: Comments beginning with # are deprecated. Please use // in place of # for line comments.\n",
            "Warning in '/tmp/httpstan__9vpxt6v/model_pgd7dru4.stan', line 9, column 31: Comments beginning with # are deprecated. Please use // in place of # for line comments.\n",
            "Warning in '/tmp/httpstan__9vpxt6v/model_pgd7dru4.stan', line 10, column 4: Comments beginning with # are deprecated. Please use // in place of # for line comments.\n",
            "Warning in '/tmp/httpstan__9vpxt6v/model_pgd7dru4.stan', line 11, column 30: Comments beginning with # are deprecated. Please use // in place of # for line comments.\n",
            "Warning in '/tmp/httpstan__9vpxt6v/model_pgd7dru4.stan', line 12, column 4: Comments beginning with # are deprecated. Please use // in place of # for line comments.\n",
            "Warning in '/tmp/httpstan__9vpxt6v/model_pgd7dru4.stan', line 13, column 32: Comments beginning with # are deprecated. Please use // in place of # for line comments.\n",
            "Warning in '/tmp/httpstan__9vpxt6v/model_pgd7dru4.stan', line 14, column 29: Comments beginning with # are deprecated. Please use // in place of # for line comments.\n",
            "Warning in '/tmp/httpstan__9vpxt6v/model_pgd7dru4.stan', line 15, column 4: Comments beginning with # are deprecated. Please use // in place of # for line comments.\n",
            "Warning in '/tmp/httpstan__9vpxt6v/model_pgd7dru4.stan', line 28, column 25: Comments beginning with # are deprecated. Please use // in place of # for line comments.\n",
            "Warning in '/tmp/httpstan__9vpxt6v/model_pgd7dru4.stan', line 29, column 34: Comments beginning with # are deprecated. Please use // in place of # for line comments.\n",
            "Warning in '/tmp/httpstan__9vpxt6v/model_pgd7dru4.stan', line 30, column 40: Comments beginning with # are deprecated. Please use // in place of # for line comments.\n",
            "Warning in '/tmp/httpstan__9vpxt6v/model_pgd7dru4.stan', line 31, column 24: Comments beginning with # are deprecated. Please use // in place of # for line comments.\n",
            "Warning in '/tmp/httpstan__9vpxt6v/model_pgd7dru4.stan', line 32, column 20: Comments beginning with # are deprecated. Please use // in place of # for line comments.\n",
            "Warning in '/tmp/httpstan__9vpxt6v/model_pgd7dru4.stan', line 33, column 17: Comments beginning with # are deprecated. Please use // in place of # for line comments.\n",
            "Warning in '/tmp/httpstan__9vpxt6v/model_pgd7dru4.stan', line 42, column 4: Comments beginning with # are deprecated. Please use // in place of # for line comments.\n",
            "Warning: The parameter caux has no priors.\n",
            "Warning: The parameter beta0 has no priors.\n",
            "Warning: The parameter aux2_local has no priors.\n",
            "Warning: The parameter aux2_global has no priors.\n",
            "Sampling:   0%CRITICAL:httpstan:Exception during call to services function: `KeyboardInterrupt()`, traceback: `['  File \"/usr/local/lib/python3.7/dist-packages/nest_asyncio.py\", line 35, in run\\n    return loop.run_until_complete(task)\\n', '  File \"/usr/local/lib/python3.7/dist-packages/nest_asyncio.py\", line 84, in run_until_complete\\n    self._run_once()\\n', '  File \"/usr/local/lib/python3.7/dist-packages/nest_asyncio.py\", line 120, in _run_once\\n    handle._run()\\n', '  File \"/usr/lib/python3.7/asyncio/events.py\", line 88, in _run\\n    self._context.run(self._callback, *self._args)\\n', '  File \"/usr/lib/python3.7/asyncio/tasks.py\", line 329, in __wakeup\\n    self.__step()\\n', '  File \"/usr/local/lib/python3.7/dist-packages/nest_asyncio.py\", line 196, in step\\n    step_orig(task, exc)\\n', '  File \"/usr/lib/python3.7/asyncio/tasks.py\", line 249, in __step\\n    result = coro.send(None)\\n', '  File \"/usr/local/lib/python3.7/dist-packages/httpstan/services_stub.py\", line 122, in call\\n    readable, writeable, errored = select.select(potential_readers, [], [], 0.01)\\n']`\n"
          ]
        }
      ],
      "source": [
        "target_col = \"CHOICE\"\n",
        "prior_pred_dict = {}\n",
        "for key, df in df_dict.items():\n",
        "  df = df.sample(frac=0.20)\n",
        "  covars = [cov for cov in list(df.columns) if cov not in target_col]\n",
        "  X = np.array(df[covars])\n",
        "  n = len(X)\n",
        "  X = np.concatenate((np.ones((n, 1)), X), axis=1)\n",
        "  Y = np.array(df[target_col], dtype=\"int64\")\n",
        "  k = X.shape[1]\n",
        "  prior_pred_dict[key] = fit_model(multinomial_log_stan_code, X, Y, n, k, 1)"
      ]
    }
  ],
  "metadata": {
    "colab": {
      "provenance": [],
      "authorship_tag": "ABX9TyOsirUFp+kyX0DBNHfHtwjr",
      "include_colab_link": true
    },
    "kernelspec": {
      "display_name": "Python 3",
      "name": "python3"
    },
    "language_info": {
      "name": "python"
    },
    "accelerator": "GPU",
    "gpuClass": "standard"
  },
  "nbformat": 4,
  "nbformat_minor": 0
}