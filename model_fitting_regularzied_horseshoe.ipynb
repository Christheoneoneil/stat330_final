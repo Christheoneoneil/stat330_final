{
  "cells": [
    {
      "cell_type": "markdown",
      "metadata": {
        "colab_type": "text",
        "id": "view-in-github"
      },
      "source": [
        "<a href=\"https://colab.research.google.com/github/Christheoneoneil/stat330_final/blob/model_fitting/model_fitting_regularzied_horseshoe.ipynb\" target=\"_parent\"><img src=\"https://colab.research.google.com/assets/colab-badge.svg\" alt=\"Open In Colab\"/></a>"
      ]
    },
    {
      "cell_type": "markdown",
      "metadata": {
        "id": "b06MBAFmSIfx"
      },
      "source": [
        "#Relevant Imports\n"
      ]
    },
    {
      "cell_type": "code",
      "execution_count": 1,
      "metadata": {
        "colab": {
          "base_uri": "https://localhost:8080/"
        },
        "id": "IYc-479GPZAa",
        "outputId": "d5f279b1-ad2a-4400-83bb-6f962d5292d8"
      },
      "outputs": [],
      "source": [
        "import stan\n",
        "# !pip install nest_asyncio\n",
        "import nest_asyncio\n",
        "nest_asyncio.apply()\n",
        "import pandas as pd\n",
        "\n",
        "import matplotlib.pyplot as plt\n",
        "import numpy as np\n",
        "import arviz as az\n",
        "import seaborn as sns\n",
        "# %load_ext rpy2.ipython"
      ]
    },
    {
      "cell_type": "markdown",
      "metadata": {
        "id": "k_b-TZPNUgDv"
      },
      "source": [
        "# Preliminary Code Cleaning for Multinomial Logistic Regression"
      ]
    },
    {
      "cell_type": "code",
      "execution_count": 2,
      "metadata": {
        "id": "nIwv-ZxRU47Q"
      },
      "outputs": [],
      "source": [
        "def read_data(file_name: str):\n",
        "  \"\"\"\n",
        "  param filename: name of data file\n",
        "  returns: pandas data frame\n",
        "  \"\"\"\n",
        "  df = pd.read_csv(file_name, index_col = \"Unnamed: 0\")\n",
        "  df.dropna(axis = 0, how=\"any\", inplace=True)\n",
        "  df = df.loc[:,~df.columns.duplicated()]\n",
        "  return df"
      ]
    },
    {
      "cell_type": "code",
      "execution_count": 3,
      "metadata": {
        "id": "T2N019nSWTZ7"
      },
      "outputs": [],
      "source": [
        "def prep_data(df: pd.DataFrame, key: str, unwanted_cols: list):\n",
        "  \"\"\"\n",
        "  param df: data frame that needs to be formatted\n",
        "  key: key value associated with provided dictionary\n",
        "  unwanted_cols: columns that are ultimatly not needed for analysis\n",
        "  returns: prept data frame for logit regression\n",
        "  \"\"\"\n",
        "  from sklearn import preprocessing\n",
        "  df_copy = df.copy()\n",
        "  unnormed_cols = [\"STUDWGT\"]\n",
        "\n",
        "  if key == \"imputed\":\n",
        "    unnormed_cols = ['ACTComposite', 'SATMath', \n",
        "                     'SATVerbal', 'SATWriting'] + unnormed_cols\n",
        "    df_copy.drop(columns=[\"Unnamed: 0.1\"], inplace=True)\n",
        "\n",
        "  normalizer = preprocessing.MinMaxScaler()\n",
        "  normed_cols = normalizer.fit_transform(df[unnormed_cols])\n",
        "  df_copy[unnormed_cols] = normed_cols\n",
        "  df_copy.drop(columns=unwanted_cols, inplace=True)\n",
        "\n",
        "  recode_vars = [\"STRAT\", \"SELECTIVITY\", \"DOBYear\"]\n",
        "  for var in recode_vars:\n",
        "    unencoded_list = list(df_copy[var].unique())\n",
        "    encode_list = list(range(1, len(unencoded_list)+1))\n",
        "    df_copy[var].replace(unencoded_list, encode_list, inplace=True)\n",
        "  return(df_copy)"
      ]
    },
    {
      "cell_type": "code",
      "execution_count": 5,
      "metadata": {
        "id": "XD69j_rfUfm8"
      },
      "outputs": [],
      "source": [
        "df_dict = {\"imputed\": read_data(\"data/final_frame_imputed.csv\"),\n",
        "           \"non_imputed\": read_data(\"data/final_frame_non_imputed.csv\")}\n",
        "unnecessary_cols = [\"ACERECODE\"]\n",
        "for key, df in df_dict.items():\n",
        "  df_dict[key] = prep_data(df, key, unnecessary_cols)"
      ]
    },
    {
      "cell_type": "markdown",
      "metadata": {
        "id": "RvRIiikxSlhT"
      },
      "source": [
        "# Setting Up Model"
      ]
    },
    {
      "cell_type": "code",
      "execution_count": 6,
      "metadata": {
        "id": "k_zUYXChSbJZ"
      },
      "outputs": [],
      "source": [
        "\n",
        "def fit_model(model_code: str, X: np.array, Y: np.array, n: int, k: int, \n",
        "              flag_val: int):\n",
        "  \"\"\"\n",
        "  param model_code: stan formatted code for model\n",
        "  param X: nxk array of covariates \n",
        "  param Y: array of target values\n",
        "  param n: number of rows \n",
        "  param k: number of covarites\n",
        "  param flag_val: do predictive distrub flag value\n",
        "  reutrns: stan sampler object\n",
        "  \"\"\"\n",
        "  #Slab and golbal variables were randomly chosen we need to do more research\n",
        "  \n",
        "  mod = stan.build(model_code,data={\"X\": X, \"Y\": Y, \"n\": n, \"k\": k, \n",
        "                               \"do_prior_predictive\": flag_val, \"scale_icept\":1,\n",
        "                               \"scale_global\": 10/(k-10)/np.sqrt(n), \"nu_global\":1,\n",
        "                               \"nu_local\": 2,\"slab_scale\":1, \"slab_df\":20})\n",
        "  samples = mod.sample()\n",
        "  return samples\n"
      ]
    },
    {
      "cell_type": "code",
      "execution_count": null,
      "metadata": {
        "id": "8-lYrQWBUgwq"
      },
      "outputs": [],
      "source": [
        "multinomial_log_stan_code = \"\"\"\n",
        "data {\n",
        "    int <lower=0> n ;            // number of observations\n",
        "    int <lower=0> k ;           // number of predictors\n",
        "    array[n] int <lower=1, upper=4> Y;// outputs\n",
        "    matrix[n, k] X;             // inputs\n",
        "    real <lower=0> scale_icept;  // prior std for the intercept\n",
        "    real <lower=0> scale_global; // scale for the half - t prior for tau\n",
        "    real <lower=0> nu_global;    // degrees of freedom for the half - t prior\n",
        "\n",
        "    // for tau\n",
        "    real <lower =1> nu_local;   // degrees of freedom for the half - t priors\n",
        "\n",
        "    // for lambdas\n",
        "    real <lower =0> slab_scale; // slab scale for the regularized horseshoe\n",
        "    real <lower =0> slab_df;    // slab degrees of freedom for the regularized\n",
        "    // horseshoe\n",
        "}\n",
        "parameters {\n",
        "    real beta0 ;\n",
        "    vector[k] z ;\n",
        "    real <lower=0> aux1_global;\n",
        "    real <lower=0> aux2_global;\n",
        "    vector <lower=0>[k] aux1_local;\n",
        "    vector <lower=0>[k] aux2_local;\n",
        "    real <lower=0> caux;\n",
        "}\n",
        "transformed parameters {\n",
        "    real <lower=0> tau ;                // global shrinkage parameter\n",
        "    vector <lower=0>[k] lambda ;        // local shrinkage parameter\n",
        "    vector <lower=0>[k] lambda_tilde ;  // ’truncated’ local shrinkage parameter\n",
        "    real <lower=0> c ;                  // slab scale\n",
        "    vector[k] beta;                     // regression coefficients\n",
        "    vector[n] f;                        // latent function values\n",
        "    lambda = aux1_local.*sqrt(aux2_local);\n",
        "    tau = aux1_global*sqrt(aux2_global)*scale_global;\n",
        "    c = slab_scale * sqrt(caux);\n",
        "    lambda_tilde = sqrt(c^2*square(lambda)./(c ^2 + tau ^2*square(lambda)));\n",
        "    beta = z.*lambda_tilde*tau;\n",
        "    f = beta0 + X*beta ;\n",
        "}\n",
        "model {\n",
        "    // half - t priors for lambdas and tau , and inverse - gamma for c ^2\n",
        "    z ~ normal(0 , 1);\n",
        "    aux1_local ~ normal(0 , 1);\n",
        "    aux2_local ~ inv_gamma(0.5*nu_local, 0.5*nu_local);\n",
        "    aux1_global ~ normal(0 , 1);\n",
        "    aux2_global ~ inv_gamma(0.5*nu_global, 0.5*nu_global);\n",
        "    caux ~ inv_gamma(0.5*slab_df , 0.5*slab_df);\n",
        "    beta0 ~ normal(0, scale_icept);\n",
        "    Y ~ categorical_logit(f);\n",
        "}\n",
        "\"\"\""
      ]
    },
    {
      "cell_type": "code",
      "execution_count": 11,
      "metadata": {
        "colab": {
          "base_uri": "https://localhost:8080/"
        },
        "id": "FICIRLDwVXAL",
        "outputId": "caec4f34-c092-4477-8074-cabf14f55ea5"
      },
      "outputs": [
        {
          "name": "stdout",
          "output_type": "stream",
          "text": [
            "Building..."
          ]
        },
        {
          "name": "stderr",
          "output_type": "stream",
          "text": [
            "In file included from /home/mitch/miniconda3/envs/bayes/lib/python3.9/site-packages/httpstan/include/boost/multi_array/multi_array_ref.hpp:32,\n",
            "                 from /home/mitch/miniconda3/envs/bayes/lib/python3.9/site-packages/httpstan/include/boost/multi_array.hpp:34,\n",
            "                 from /home/mitch/miniconda3/envs/bayes/lib/python3.9/site-packages/httpstan/include/boost/numeric/odeint/algebra/multi_array_algebra.hpp:22,\n",
            "                 from /home/mitch/miniconda3/envs/bayes/lib/python3.9/site-packages/httpstan/include/boost/numeric/odeint.hpp:63,\n",
            "                 from /home/mitch/miniconda3/envs/bayes/lib/python3.9/site-packages/httpstan/include/stan/math/prim/functor/ode_rk45.hpp:9,\n",
            "                 from /home/mitch/miniconda3/envs/bayes/lib/python3.9/site-packages/httpstan/include/stan/math/prim/functor/integrate_ode_rk45.hpp:6,\n",
            "                 from /home/mitch/miniconda3/envs/bayes/lib/python3.9/site-packages/httpstan/include/stan/math/prim/functor.hpp:14,\n",
            "                 from /home/mitch/miniconda3/envs/bayes/lib/python3.9/site-packages/httpstan/include/stan/math/rev/fun.hpp:196,\n",
            "                 from /home/mitch/miniconda3/envs/bayes/lib/python3.9/site-packages/httpstan/include/stan/math/rev.hpp:10,\n",
            "                 from /home/mitch/miniconda3/envs/bayes/lib/python3.9/site-packages/httpstan/include/stan/math.hpp:19,\n",
            "                 from /home/mitch/miniconda3/envs/bayes/lib/python3.9/site-packages/httpstan/include/stan/model/model_header.hpp:4,\n",
            "                 from /home/mitch/.cache/httpstan/4.8.2/models/oarndvmw/model_oarndvmw.cpp:2:\n",
            "/home/mitch/miniconda3/envs/bayes/lib/python3.9/site-packages/httpstan/include/boost/functional.hpp:180:45: warning: ‘template<class _Arg, class _Result> struct std::unary_function’ is deprecated [-Wdeprecated-declarations]\n",
            "  180 |         : public boost::functional::detail::unary_function<typename unary_traits<Predicate>::argument_type,bool>\n",
            "      |                                             ^~~~~~~~~~~~~~\n",
            "In file included from /usr/include/c++/12.2.0/string:48,\n",
            "                 from /usr/include/c++/12.2.0/bits/locale_classes.h:40,\n",
            "                 from /usr/include/c++/12.2.0/bits/ios_base.h:41,\n",
            "                 from /usr/include/c++/12.2.0/ios:42,\n",
            "                 from /usr/include/c++/12.2.0/istream:38,\n",
            "                 from /usr/include/c++/12.2.0/sstream:38,\n",
            "                 from /usr/include/c++/12.2.0/complex:45,\n",
            "                 from /home/mitch/miniconda3/envs/bayes/lib/python3.9/site-packages/httpstan/include/Eigen/Core:96,\n",
            "                 from /home/mitch/miniconda3/envs/bayes/lib/python3.9/site-packages/httpstan/include/Eigen/Dense:1,\n",
            "                 from /home/mitch/miniconda3/envs/bayes/lib/python3.9/site-packages/httpstan/include/stan/math/prim/fun/Eigen.hpp:22,\n",
            "                 from /home/mitch/miniconda3/envs/bayes/lib/python3.9/site-packages/httpstan/include/stan/math/rev.hpp:4:\n",
            "/usr/include/c++/12.2.0/bits/stl_function.h:117:12: note: declared here\n",
            "  117 |     struct unary_function\n",
            "      |            ^~~~~~~~~~~~~~\n",
            "/home/mitch/miniconda3/envs/bayes/lib/python3.9/site-packages/httpstan/include/boost/functional.hpp:214:45: warning: ‘template<class _Arg1, class _Arg2, class _Result> struct std::binary_function’ is deprecated [-Wdeprecated-declarations]\n",
            "  214 |         : public boost::functional::detail::binary_function<\n",
            "      |                                             ^~~~~~~~~~~~~~~\n",
            "/usr/include/c++/12.2.0/bits/stl_function.h:131:12: note: declared here\n",
            "  131 |     struct binary_function\n",
            "      |            ^~~~~~~~~~~~~~~\n",
            "/home/mitch/miniconda3/envs/bayes/lib/python3.9/site-packages/httpstan/include/boost/functional.hpp:252:45: warning: ‘template<class _Arg, class _Result> struct std::unary_function’ is deprecated [-Wdeprecated-declarations]\n",
            "  252 |         : public boost::functional::detail::unary_function<\n",
            "      |                                             ^~~~~~~~~~~~~~\n",
            "/usr/include/c++/12.2.0/bits/stl_function.h:117:12: note: declared here\n",
            "  117 |     struct unary_function\n",
            "      |            ^~~~~~~~~~~~~~\n",
            "/home/mitch/miniconda3/envs/bayes/lib/python3.9/site-packages/httpstan/include/boost/functional.hpp:299:45: warning: ‘template<class _Arg, class _Result> struct std::unary_function’ is deprecated [-Wdeprecated-declarations]\n",
            "  299 |         : public boost::functional::detail::unary_function<\n",
            "      |                                             ^~~~~~~~~~~~~~\n",
            "/usr/include/c++/12.2.0/bits/stl_function.h:117:12: note: declared here\n",
            "  117 |     struct unary_function\n",
            "      |            ^~~~~~~~~~~~~~\n",
            "/home/mitch/miniconda3/envs/bayes/lib/python3.9/site-packages/httpstan/include/boost/functional.hpp:345:57: warning: ‘template<class _Arg, class _Result> struct std::unary_function’ is deprecated [-Wdeprecated-declarations]\n",
            "  345 |     class mem_fun_t : public boost::functional::detail::unary_function<T*, S>\n",
            "      |                                                         ^~~~~~~~~~~~~~\n",
            "/usr/include/c++/12.2.0/bits/stl_function.h:117:12: note: declared here\n",
            "  117 |     struct unary_function\n",
            "      |            ^~~~~~~~~~~~~~\n",
            "/home/mitch/miniconda3/envs/bayes/lib/python3.9/site-packages/httpstan/include/boost/functional.hpp:361:58: warning: ‘template<class _Arg1, class _Arg2, class _Result> struct std::binary_function’ is deprecated [-Wdeprecated-declarations]\n",
            "  361 |     class mem_fun1_t : public boost::functional::detail::binary_function<T*, A, S>\n",
            "      |                                                          ^~~~~~~~~~~~~~~\n",
            "/usr/include/c++/12.2.0/bits/stl_function.h:131:12: note: declared here\n",
            "  131 |     struct binary_function\n",
            "      |            ^~~~~~~~~~~~~~~\n",
            "/home/mitch/miniconda3/envs/bayes/lib/python3.9/site-packages/httpstan/include/boost/functional.hpp:377:63: warning: ‘template<class _Arg, class _Result> struct std::unary_function’ is deprecated [-Wdeprecated-declarations]\n",
            "  377 |     class const_mem_fun_t : public boost::functional::detail::unary_function<const T*, S>\n",
            "      |                                                               ^~~~~~~~~~~~~~\n",
            "/usr/include/c++/12.2.0/bits/stl_function.h:117:12: note: declared here\n",
            "  117 |     struct unary_function\n",
            "      |            ^~~~~~~~~~~~~~\n",
            "/home/mitch/miniconda3/envs/bayes/lib/python3.9/site-packages/httpstan/include/boost/functional.hpp:393:64: warning: ‘template<class _Arg1, class _Arg2, class _Result> struct std::binary_function’ is deprecated [-Wdeprecated-declarations]\n",
            "  393 |     class const_mem_fun1_t : public boost::functional::detail::binary_function<const T*, A, S>\n",
            "      |                                                                ^~~~~~~~~~~~~~~\n",
            "/usr/include/c++/12.2.0/bits/stl_function.h:131:12: note: declared here\n",
            "  131 |     struct binary_function\n",
            "      |            ^~~~~~~~~~~~~~~\n",
            "/home/mitch/miniconda3/envs/bayes/lib/python3.9/site-packages/httpstan/include/boost/functional.hpp:438:61: warning: ‘template<class _Arg, class _Result> struct std::unary_function’ is deprecated [-Wdeprecated-declarations]\n",
            "  438 |     class mem_fun_ref_t : public boost::functional::detail::unary_function<T&, S>\n",
            "      |                                                             ^~~~~~~~~~~~~~\n",
            "/usr/include/c++/12.2.0/bits/stl_function.h:117:12: note: declared here\n",
            "  117 |     struct unary_function\n",
            "      |            ^~~~~~~~~~~~~~\n",
            "/home/mitch/miniconda3/envs/bayes/lib/python3.9/site-packages/httpstan/include/boost/functional.hpp:454:62: warning: ‘template<class _Arg1, class _Arg2, class _Result> struct std::binary_function’ is deprecated [-Wdeprecated-declarations]\n",
            "  454 |     class mem_fun1_ref_t : public boost::functional::detail::binary_function<T&, A, S>\n",
            "      |                                                              ^~~~~~~~~~~~~~~\n",
            "/usr/include/c++/12.2.0/bits/stl_function.h:131:12: note: declared here\n",
            "  131 |     struct binary_function\n",
            "      |            ^~~~~~~~~~~~~~~\n",
            "/home/mitch/miniconda3/envs/bayes/lib/python3.9/site-packages/httpstan/include/boost/functional.hpp:470:67: warning: ‘template<class _Arg, class _Result> struct std::unary_function’ is deprecated [-Wdeprecated-declarations]\n",
            "  470 |     class const_mem_fun_ref_t : public boost::functional::detail::unary_function<const T&, S>\n",
            "      |                                                                   ^~~~~~~~~~~~~~\n",
            "/usr/include/c++/12.2.0/bits/stl_function.h:117:12: note: declared here\n",
            "  117 |     struct unary_function\n",
            "      |            ^~~~~~~~~~~~~~\n",
            "/home/mitch/miniconda3/envs/bayes/lib/python3.9/site-packages/httpstan/include/boost/functional.hpp:487:68: warning: ‘template<class _Arg1, class _Arg2, class _Result> struct std::binary_function’ is deprecated [-Wdeprecated-declarations]\n",
            "  487 |     class const_mem_fun1_ref_t : public boost::functional::detail::binary_function<const T&, A, S>\n",
            "      |                                                                    ^~~~~~~~~~~~~~~\n",
            "/usr/include/c++/12.2.0/bits/stl_function.h:131:12: note: declared here\n",
            "  131 |     struct binary_function\n",
            "      |            ^~~~~~~~~~~~~~~\n",
            "/home/mitch/miniconda3/envs/bayes/lib/python3.9/site-packages/httpstan/include/boost/functional.hpp:533:73: warning: ‘template<class _Arg, class _Result> struct std::unary_function’ is deprecated [-Wdeprecated-declarations]\n",
            "  533 |     class pointer_to_unary_function : public boost::functional::detail::unary_function<Arg,Result>\n",
            "      |                                                                         ^~~~~~~~~~~~~~\n",
            "/usr/include/c++/12.2.0/bits/stl_function.h:117:12: note: declared here\n",
            "  117 |     struct unary_function\n",
            "      |            ^~~~~~~~~~~~~~\n",
            "/home/mitch/miniconda3/envs/bayes/lib/python3.9/site-packages/httpstan/include/boost/functional.hpp:557:74: warning: ‘template<class _Arg1, class _Arg2, class _Result> struct std::binary_function’ is deprecated [-Wdeprecated-declarations]\n",
            "  557 |     class pointer_to_binary_function : public boost::functional::detail::binary_function<Arg1,Arg2,Result>\n",
            "      |                                                                          ^~~~~~~~~~~~~~~\n",
            "/usr/include/c++/12.2.0/bits/stl_function.h:131:12: note: declared here\n",
            "  131 |     struct binary_function\n",
            "      |            ^~~~~~~~~~~~~~~\n",
            "In file included from /home/mitch/miniconda3/envs/bayes/lib/python3.9/site-packages/httpstan/include/stan/model/indexing.hpp:5,\n",
            "                 from /home/mitch/miniconda3/envs/bayes/lib/python3.9/site-packages/httpstan/include/stan/model/model_header.hpp:17:\n",
            "/home/mitch/miniconda3/envs/bayes/lib/python3.9/site-packages/httpstan/include/stan/model/indexing/assign_varmat.hpp: In function ‘void stan::model::assign(Mat1&&, const Mat2&, const char*, const index_multi&, const index_multi&)’:\n",
            "/home/mitch/miniconda3/envs/bayes/lib/python3.9/site-packages/httpstan/include/stan/model/indexing/assign_varmat.hpp:401:9: warning: typedef ‘using pair_type = struct std::pair<int, std::vector<int, stan::math::arena_allocator<int> > >’ locally defined but not used [-Wunused-local-typedefs]\n",
            "  401 |   using pair_type = std::pair<int, arena_vec>;\n",
            "      |         ^~~~~~~~~\n",
            "/home/mitch/.cache/httpstan/4.8.2/models/oarndvmw/model_oarndvmw.cpp: In instantiation of ‘void model_oarndvmw_namespace::model_oarndvmw::transform_inits_impl(VecVar&, VecI&, VecVar&, std::ostream*) const [with VecVar = std::vector<double, std::allocator<double> >; VecI = std::vector<int>; stan::require_vector_t<T_y>* <anonymous> = 0; stan::require_vector_like_vt<std::is_integral, VecI>* <anonymous> = 0; std::ostream = std::basic_ostream<char>]’:\n",
            "/home/mitch/.cache/httpstan/4.8.2/models/oarndvmw/model_oarndvmw.cpp:806:26:   required from here\n",
            "/home/mitch/.cache/httpstan/4.8.2/models/oarndvmw/model_oarndvmw.cpp:530:11: warning: variable ‘pos__’ set but not used [-Wunused-but-set-variable]\n",
            "  530 |       int pos__ = std::numeric_limits<int>::min();\n",
            "      |           ^~~~~\n"
          ]
        },
        {
          "name": "stdout",
          "output_type": "stream",
          "text": [
            "\n"
          ]
        },
        {
          "name": "stderr",
          "output_type": "stream",
          "text": [
            "\n",
            "Building: 17.8s, done.Messages from stanc:\n",
            "Warning: The parameter caux has no priors. This means either no prior is\n",
            "    provided, or the prior(s) depend on data variables. In the later case,\n",
            "    this may be a false positive.\n",
            "Warning: The parameter beta0 has no priors. This means either no prior is\n",
            "    provided, or the prior(s) depend on data variables. In the later case,\n",
            "    this may be a false positive.\n",
            "Warning: The parameter aux2_local has no priors. This means either no prior\n",
            "    is provided, or the prior(s) depend on data variables. In the later case,\n",
            "    this may be a false positive.\n",
            "Warning: The parameter aux2_global has no priors. This means either no prior\n",
            "    is provided, or the prior(s) depend on data variables. In the later case,\n",
            "    this may be a false positive.\n",
            "Sampling:   0%\n",
            "Sampling:   0% (1/8000)\n",
            "Sampling:   0% (2/8000)\n",
            "Sampling:   0% (3/8000)\n",
            "Sampling:   0% (4/8000)"
          ]
        }
      ],
      "source": [
        "target_col = \"CHOICE\"\n",
        "prior_pred_dict = {}\n",
        "for key, df in df_dict.items():\n",
        "  df = df.sample(frac=0.10)\n",
        "  covars = [cov for cov in list(df.columns) if cov not in target_col]\n",
        "  X = np.array(df[covars])\n",
        "  n = len(X)\n",
        "  X = np.concatenate((np.ones((n, 1)), X), axis=1)\n",
        "  Y = np.array(df[target_col], dtype=\"int64\")\n",
        "  k = X.shape[1]\n",
        "  prior_pred_dict[key] = fit_model(multinomial_log_stan_code, X, Y, n, k, 1)\n",
        "  break"
      ]
    },
    {
      "cell_type": "markdown",
      "metadata": {},
      "source": []
    }
  ],
  "metadata": {
    "accelerator": "GPU",
    "colab": {
      "authorship_tag": "ABX9TyOsirUFp+kyX0DBNHfHtwjr",
      "include_colab_link": true,
      "provenance": []
    },
    "gpuClass": "standard",
    "kernelspec": {
      "display_name": "Python 3.9.13 ('bayes')",
      "language": "python",
      "name": "python3"
    },
    "language_info": {
      "codemirror_mode": {
        "name": "ipython",
        "version": 3
      },
      "file_extension": ".py",
      "mimetype": "text/x-python",
      "name": "python",
      "nbconvert_exporter": "python",
      "pygments_lexer": "ipython3",
      "version": "3.9.13"
    },
    "vscode": {
      "interpreter": {
        "hash": "c627b44f4ae38c891954d455ae816164b6db6e9971d5361176b0256385e6703d"
      }
    }
  },
  "nbformat": 4,
  "nbformat_minor": 0
}
