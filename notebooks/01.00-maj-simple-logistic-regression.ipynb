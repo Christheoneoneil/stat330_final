{
 "cells": [
  {
   "cell_type": "markdown",
   "metadata": {},
   "source": [
    "# 01.00-maj-simple-logistic-regression\n",
    "\n",
    "Mitchell Joseph\n",
    "<br>Created: 2022-11-21</br>\n",
    "Last Modified: 2022-11-21\n",
    "\n",
    "In this notebook we explore a simple logistic regression model where we remap the output variables to 0 or 1 depending on whether or not a student got accepted to their top choice school."
   ]
  },
  {
   "cell_type": "code",
   "execution_count": 1,
   "metadata": {},
   "outputs": [],
   "source": [
    "import stan\n",
    "# !pip install nest_asyncio\n",
    "import nest_asyncio\n",
    "nest_asyncio.apply()\n",
    "import pandas as pd\n",
    "\n",
    "import matplotlib.pyplot as plt\n",
    "import numpy as np\n",
    "import arviz as az\n",
    "import seaborn as sns\n",
    "# %load_ext rpy2.ipython"
   ]
  },
  {
   "cell_type": "code",
   "execution_count": 4,
   "metadata": {},
   "outputs": [],
   "source": [
    "df_imp = pd.read_csv(\"../data/final_frame_imputed.csv\")\n",
    "df_nimp = pd.read_csv(\"../data/final_frame_non_imputed.csv\")"
   ]
  }
 ],
 "metadata": {
  "kernelspec": {
   "display_name": "Python 3.9.13 ('bayes')",
   "language": "python",
   "name": "python3"
  },
  "language_info": {
   "codemirror_mode": {
    "name": "ipython",
    "version": 3
   },
   "file_extension": ".py",
   "mimetype": "text/x-python",
   "name": "python",
   "nbconvert_exporter": "python",
   "pygments_lexer": "ipython3",
   "version": "3.9.13"
  },
  "orig_nbformat": 4,
  "vscode": {
   "interpreter": {
    "hash": "c627b44f4ae38c891954d455ae816164b6db6e9971d5361176b0256385e6703d"
   }
  }
 },
 "nbformat": 4,
 "nbformat_minor": 2
}
