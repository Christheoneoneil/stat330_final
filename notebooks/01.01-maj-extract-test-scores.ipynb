{
 "cells": [
  {
   "cell_type": "markdown",
   "metadata": {},
   "source": [
    "# 01.01-maj-extract-test-scores\n",
    "\n",
    "Mitchell Joseph\n",
    "<br>Created: 2022-11-22</br>\n",
    "Last Modified: 2022-11-22\n",
    "\n",
    "We revisit the original databases to extract out just the necessary columns and ignore all missing values. \n",
    "New .csv file is created called `data/01-raw/test_scores.csv`"
   ]
  },
  {
   "cell_type": "code",
   "execution_count": 67,
   "metadata": {},
   "outputs": [],
   "source": [
    "import sqlite3\n",
    "import pandas as pd\n",
    "import numpy as np\n",
    "import matplotlib.pyplot as plt"
   ]
  },
  {
   "cell_type": "code",
   "execution_count": 3,
   "metadata": {},
   "outputs": [],
   "source": [
    "def run_query(db_path, query):\n",
    "    \"\"\"Query a database and return a pandas DataFrame.\"\"\"\n",
    "    conn = sqlite3.connect(db_path)\n",
    "    df = pd.read_sql_query(query, conn)\n",
    "    conn.close()\n",
    "    return df"
   ]
  },
  {
   "cell_type": "markdown",
   "metadata": {},
   "source": [
    "## High School\n",
    "We'll start by extracting just the SAT scores from the HIGH SCHOOL database"
   ]
  },
  {
   "cell_type": "code",
   "execution_count": 12,
   "metadata": {},
   "outputs": [],
   "source": [
    "hs_path = \"../data/00-external/HIGH_SCHOOL.db\""
   ]
  },
  {
   "cell_type": "code",
   "execution_count": 40,
   "metadata": {},
   "outputs": [],
   "source": [
    "# ACTComposite \n",
    "query_test_scores = \"\"\"\n",
    "SELECT [SubjectI.D.] as SUBJID, SATMath, SATWriting, SATVerbal FROM 'HIGH SCHOOL'\n",
    "WHERE SATMath IS NOT NULL \n",
    "    AND SATWriting IS NOT NULL\n",
    "    AND SATVerbal IS NOT NULL\n",
    "    AND Surveyyear == 2010;\n",
    "\"\"\"\n",
    "\n",
    "hs_df = run_query(hs_path, query_test_scores)"
   ]
  },
  {
   "cell_type": "code",
   "execution_count": 41,
   "metadata": {},
   "outputs": [
    {
     "name": "stdout",
     "output_type": "stream",
     "text": [
      "(104077, 4)\n"
     ]
    },
    {
     "data": {
      "text/html": [
       "<div>\n",
       "<style scoped>\n",
       "    .dataframe tbody tr th:only-of-type {\n",
       "        vertical-align: middle;\n",
       "    }\n",
       "\n",
       "    .dataframe tbody tr th {\n",
       "        vertical-align: top;\n",
       "    }\n",
       "\n",
       "    .dataframe thead th {\n",
       "        text-align: right;\n",
       "    }\n",
       "</style>\n",
       "<table border=\"1\" class=\"dataframe\">\n",
       "  <thead>\n",
       "    <tr style=\"text-align: right;\">\n",
       "      <th></th>\n",
       "      <th>SUBJID</th>\n",
       "      <th>SATMath</th>\n",
       "      <th>SATWriting</th>\n",
       "      <th>SATVerbal</th>\n",
       "    </tr>\n",
       "  </thead>\n",
       "  <tbody>\n",
       "    <tr>\n",
       "      <th>0</th>\n",
       "      <td>884230</td>\n",
       "      <td>450</td>\n",
       "      <td>420</td>\n",
       "      <td>430</td>\n",
       "    </tr>\n",
       "    <tr>\n",
       "      <th>1</th>\n",
       "      <td>884232</td>\n",
       "      <td>430</td>\n",
       "      <td>430</td>\n",
       "      <td>470</td>\n",
       "    </tr>\n",
       "    <tr>\n",
       "      <th>2</th>\n",
       "      <td>884233</td>\n",
       "      <td>430</td>\n",
       "      <td>320</td>\n",
       "      <td>320</td>\n",
       "    </tr>\n",
       "    <tr>\n",
       "      <th>3</th>\n",
       "      <td>884247</td>\n",
       "      <td>560</td>\n",
       "      <td>540</td>\n",
       "      <td>580</td>\n",
       "    </tr>\n",
       "    <tr>\n",
       "      <th>4</th>\n",
       "      <td>884266</td>\n",
       "      <td>440</td>\n",
       "      <td>400</td>\n",
       "      <td>410</td>\n",
       "    </tr>\n",
       "  </tbody>\n",
       "</table>\n",
       "</div>"
      ],
      "text/plain": [
       "   SUBJID SATMath SATWriting SATVerbal\n",
       "0  884230     450        420       430\n",
       "1  884232     430        430       470\n",
       "2  884233     430        320       320\n",
       "3  884247     560        540       580\n",
       "4  884266     440        400       410"
      ]
     },
     "execution_count": 41,
     "metadata": {},
     "output_type": "execute_result"
    }
   ],
   "source": [
    "print(hs_df.shape)\n",
    "hs_df.head()"
   ]
  },
  {
   "cell_type": "markdown",
   "metadata": {},
   "source": [
    "## Demographics"
   ]
  },
  {
   "cell_type": "code",
   "execution_count": 42,
   "metadata": {},
   "outputs": [],
   "source": [
    "demo_path = \"../data/00-external/DEMOGRAPHICS.db\"\n",
    "\n",
    "query_demographics = \"\"\"\n",
    "SELECT [SubjectI.D.] as SUBJID, State, [Yoursex:], [Race/EthnicityGroup] FROM DEMOGRAPHICS\n",
    "WHERE Surveyyear == 2010\n",
    "    AND State IS NOT NULL\n",
    "    AND [Yoursex:] != 0\n",
    "    AND [Race/EthnicityGroup] IS NOT NULL;\n",
    "\"\"\"\n",
    "\n",
    "demo_df = run_query(demo_path, query_demographics)"
   ]
  },
  {
   "cell_type": "code",
   "execution_count": 43,
   "metadata": {},
   "outputs": [
    {
     "data": {
      "text/html": [
       "<div>\n",
       "<style scoped>\n",
       "    .dataframe tbody tr th:only-of-type {\n",
       "        vertical-align: middle;\n",
       "    }\n",
       "\n",
       "    .dataframe tbody tr th {\n",
       "        vertical-align: top;\n",
       "    }\n",
       "\n",
       "    .dataframe thead th {\n",
       "        text-align: right;\n",
       "    }\n",
       "</style>\n",
       "<table border=\"1\" class=\"dataframe\">\n",
       "  <thead>\n",
       "    <tr style=\"text-align: right;\">\n",
       "      <th></th>\n",
       "      <th>SUBJID</th>\n",
       "      <th>State</th>\n",
       "      <th>Yoursex:</th>\n",
       "      <th>Race/EthnicityGroup</th>\n",
       "    </tr>\n",
       "  </thead>\n",
       "  <tbody>\n",
       "    <tr>\n",
       "      <th>0</th>\n",
       "      <td>884186</td>\n",
       "      <td>AL</td>\n",
       "      <td>Female</td>\n",
       "      <td>Black</td>\n",
       "    </tr>\n",
       "    <tr>\n",
       "      <th>1</th>\n",
       "      <td>884187</td>\n",
       "      <td>AL</td>\n",
       "      <td>Male</td>\n",
       "      <td>Black</td>\n",
       "    </tr>\n",
       "    <tr>\n",
       "      <th>2</th>\n",
       "      <td>884188</td>\n",
       "      <td>AL</td>\n",
       "      <td>Female</td>\n",
       "      <td>Black</td>\n",
       "    </tr>\n",
       "    <tr>\n",
       "      <th>3</th>\n",
       "      <td>884190</td>\n",
       "      <td>AL</td>\n",
       "      <td>Male</td>\n",
       "      <td>Two or more race/ethnicity</td>\n",
       "    </tr>\n",
       "    <tr>\n",
       "      <th>4</th>\n",
       "      <td>884191</td>\n",
       "      <td>AL</td>\n",
       "      <td>Male</td>\n",
       "      <td>Black</td>\n",
       "    </tr>\n",
       "  </tbody>\n",
       "</table>\n",
       "</div>"
      ],
      "text/plain": [
       "   SUBJID State Yoursex:         Race/EthnicityGroup\n",
       "0  884186    AL   Female                       Black\n",
       "1  884187    AL     Male                       Black\n",
       "2  884188    AL   Female                       Black\n",
       "3  884190    AL     Male  Two or more race/ethnicity\n",
       "4  884191    AL     Male                       Black"
      ]
     },
     "execution_count": 43,
     "metadata": {},
     "output_type": "execute_result"
    }
   ],
   "source": [
    "demo_df.head()"
   ]
  },
  {
   "cell_type": "markdown",
   "metadata": {},
   "source": [
    "## TFS"
   ]
  },
  {
   "cell_type": "code",
   "execution_count": 91,
   "metadata": {},
   "outputs": [],
   "source": [
    "tfs_path = \"../data/00-external/TFS_CHOICE_2008_2010.db\"\n",
    "\n",
    "    #    CASE WHEN ACCPT1ST = 2 THEN 1 ELSE 0 END as ACCPT1ST\n",
    "query_tfs = \"\"\"\n",
    "SELECT \n",
    "SUBJID,\n",
    "CASE CHOICE\n",
    "    WHEN 5 THEN -1\n",
    "    WHEN 4 THEN -2\n",
    "    WHEN 2 THEN -3\n",
    "    WHEN 1 THEN -4\n",
    "END AS CHOICE,\n",
    "CASE ACCPT1ST\n",
    "    WHEN 2 THEN 1\n",
    "    ELSE 0\n",
    "END AS ACCPT1ST\n",
    "FROM CHOICE\n",
    "WHERE Year == 2010\n",
    "    AND CHOICE IS NOT NULL\n",
    "    AND ACCPT1ST IS NOT NULL;\n",
    "\"\"\"\n",
    "\n",
    "tfs_df = run_query(tfs_path, query_tfs)"
   ]
  },
  {
   "cell_type": "code",
   "execution_count": 93,
   "metadata": {},
   "outputs": [
    {
     "data": {
      "text/html": [
       "<div>\n",
       "<style scoped>\n",
       "    .dataframe tbody tr th:only-of-type {\n",
       "        vertical-align: middle;\n",
       "    }\n",
       "\n",
       "    .dataframe tbody tr th {\n",
       "        vertical-align: top;\n",
       "    }\n",
       "\n",
       "    .dataframe thead th {\n",
       "        text-align: right;\n",
       "    }\n",
       "</style>\n",
       "<table border=\"1\" class=\"dataframe\">\n",
       "  <thead>\n",
       "    <tr style=\"text-align: right;\">\n",
       "      <th></th>\n",
       "      <th>SUBJID</th>\n",
       "      <th>CHOICE</th>\n",
       "      <th>ACCPT1ST</th>\n",
       "    </tr>\n",
       "  </thead>\n",
       "  <tbody>\n",
       "    <tr>\n",
       "      <th>0</th>\n",
       "      <td>884186</td>\n",
       "      <td>2</td>\n",
       "      <td>1</td>\n",
       "    </tr>\n",
       "    <tr>\n",
       "      <th>1</th>\n",
       "      <td>884187</td>\n",
       "      <td>2</td>\n",
       "      <td>1</td>\n",
       "    </tr>\n",
       "    <tr>\n",
       "      <th>2</th>\n",
       "      <td>884188</td>\n",
       "      <td>4</td>\n",
       "      <td>1</td>\n",
       "    </tr>\n",
       "    <tr>\n",
       "      <th>3</th>\n",
       "      <td>884189</td>\n",
       "      <td>3</td>\n",
       "      <td>1</td>\n",
       "    </tr>\n",
       "    <tr>\n",
       "      <th>4</th>\n",
       "      <td>884190</td>\n",
       "      <td>2</td>\n",
       "      <td>0</td>\n",
       "    </tr>\n",
       "  </tbody>\n",
       "</table>\n",
       "</div>"
      ],
      "text/plain": [
       "   SUBJID  CHOICE  ACCPT1ST\n",
       "0  884186       2         1\n",
       "1  884187       2         1\n",
       "2  884188       4         1\n",
       "3  884189       3         1\n",
       "4  884190       2         0"
      ]
     },
     "execution_count": 93,
     "metadata": {},
     "output_type": "execute_result"
    }
   ],
   "source": [
    "tfs_df['CHOICE'] = np.abs(tfs_df['CHOICE'])\n",
    "tfs_df.head()"
   ]
  },
  {
   "cell_type": "code",
   "execution_count": 96,
   "metadata": {},
   "outputs": [
    {
     "data": {
      "image/png": "[encoded data removed]",
      "text/plain": [
       "<Figure size 640x480 with 1 Axes>"
      ]
     },
     "metadata": {},
     "output_type": "display_data"
    }
   ],
   "source": [
    "x = tfs_df['CHOICE'].value_counts().index\n",
    "y = tfs_df['CHOICE'].value_counts().values\n",
    "plt.bar(x, y)\n",
    "plt.yscale('log')\n",
    "plt.show();"
   ]
  },
  {
   "cell_type": "markdown",
   "metadata": {},
   "source": [
    "## Merging"
   ]
  },
  {
   "cell_type": "code",
   "execution_count": 97,
   "metadata": {},
   "outputs": [
    {
     "name": "stdout",
     "output_type": "stream",
     "text": [
      "(104077, 4)\n",
      "(248302, 4)\n",
      "(255089, 3)\n"
     ]
    }
   ],
   "source": [
    "print(hs_df.shape)\n",
    "print(demo_df.shape)\n",
    "print(tfs_df.shape)"
   ]
  },
  {
   "cell_type": "code",
   "execution_count": 98,
   "metadata": {},
   "outputs": [],
   "source": [
    "merged_df = pd.merge(hs_df, demo_df, how='left', on=\"SUBJID\")"
   ]
  },
  {
   "cell_type": "code",
   "execution_count": 101,
   "metadata": {},
   "outputs": [
    {
     "name": "stdout",
     "output_type": "stream",
     "text": [
      "(104077, 7)\n"
     ]
    },
    {
     "data": {
      "text/plain": [
       "SUBJID                    0\n",
       "SATMath                   0\n",
       "SATWriting                0\n",
       "SATVerbal                 0\n",
       "State                  3907\n",
       "Yoursex:               3907\n",
       "Race/EthnicityGroup    3907\n",
       "dtype: int64"
      ]
     },
     "execution_count": 101,
     "metadata": {},
     "output_type": "execute_result"
    }
   ],
   "source": [
    "print(merged_df.shape)\n",
    "merged_df.isna().sum()"
   ]
  },
  {
   "cell_type": "code",
   "execution_count": 103,
   "metadata": {},
   "outputs": [
    {
     "data": {
      "text/plain": [
       "(100170, 7)"
      ]
     },
     "execution_count": 103,
     "metadata": {},
     "output_type": "execute_result"
    }
   ],
   "source": [
    "merged_df.dropna(inplace=True)\n",
    "merged_df.shape"
   ]
  },
  {
   "cell_type": "code",
   "execution_count": 104,
   "metadata": {},
   "outputs": [],
   "source": [
    "merged_df = pd.merge(merged_df, tfs_df, how='left', on='SUBJID')"
   ]
  },
  {
   "cell_type": "code",
   "execution_count": 106,
   "metadata": {},
   "outputs": [
    {
     "name": "stdout",
     "output_type": "stream",
     "text": [
      "(98514, 9)\n"
     ]
    }
   ],
   "source": [
    "merged_df.dropna(inplace=True)\n",
    "print(merged_df.shape)"
   ]
  },
  {
   "cell_type": "code",
   "execution_count": 107,
   "metadata": {},
   "outputs": [],
   "source": [
    "# merged_df.to_csv(\"../data/01-raw/test_scores.csv\", index=False)"
   ]
  }
 ],
 "metadata": {
  "kernelspec": {
   "display_name": "Python 3.9.13 ('bayes')",
   "language": "python",
   "name": "python3"
  },
  "language_info": {
   "codemirror_mode": {
    "name": "ipython",
    "version": 3
   },
   "file_extension": ".py",
   "mimetype": "text/x-python",
   "name": "python",
   "nbconvert_exporter": "python",
   "pygments_lexer": "ipython3",
   "version": "3.9.13"
  },
  "orig_nbformat": 4,
  "vscode": {
   "interpreter": {
    "hash": "c627b44f4ae38c891954d455ae816164b6db6e9971d5361176b0256385e6703d"
   }
  }
 },
 "nbformat": 4,
 "nbformat_minor": 2
}
