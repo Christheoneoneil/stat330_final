{
  "nbformat": 4,
  "nbformat_minor": 0,
  "metadata": {
    "colab": {
      "provenance": [],
      "authorship_tag": "ABX9TyOQmkCNpuInfVwX34eU8u5+",
      "include_colab_link": true
    },
    "kernelspec": {
      "name": "python3",
      "display_name": "Python 3"
    },
    "language_info": {
      "name": "python"
    }
  },
  "cells": [
    {
      "cell_type": "markdown",
      "metadata": {
        "id": "view-in-github",
        "colab_type": "text"
      },
      "source": [
        "<a href=\"https://colab.research.google.com/github/Christheoneoneil/stat330_final/blob/model_fitting/model_fitting.ipynb\" target=\"_parent\"><img src=\"https://colab.research.google.com/assets/colab-badge.svg\" alt=\"Open In Colab\"/></a>"
      ]
    },
    {
      "cell_type": "markdown",
      "source": [
        "#Relevant Imports\n"
      ],
      "metadata": {
        "id": "b06MBAFmSIfx"
      }
    },
    {
      "cell_type": "code",
      "execution_count": 3,
      "metadata": {
        "id": "IYc-479GPZAa",
        "colab": {
          "base_uri": "https://localhost:8080/"
        },
        "outputId": "02c41a90-016a-450a-ec47-7248d4a2bf02"
      },
      "outputs": [
        {
          "output_type": "stream",
          "name": "stdout",
          "text": [
            "Looking in indexes: https://pypi.org/simple, https://us-python.pkg.dev/colab-wheels/public/simple/\n",
            "Requirement already satisfied: nest_asyncio in /usr/local/lib/python3.7/dist-packages (1.5.6)\n"
          ]
        }
      ],
      "source": [
        "import stan\n",
        "!pip install nest_asyncio\n",
        "import nest_asyncio\n",
        "nest_asyncio.apply()\n",
        "import pandas as pd\n",
        "\n",
        "import matplotlib.pyplot as plt\n",
        "import numpy as np\n",
        "import arviz as az\n",
        "import seaborn as sns"
      ]
    },
    {
      "cell_type": "markdown",
      "source": [
        "#Setting Up Model"
      ],
      "metadata": {
        "id": "RvRIiikxSlhT"
      }
    },
    {
      "cell_type": "code",
      "source": [
        "def read_data(file_name: str):\n",
        "  df = pd.read_csv(file_name, index_col = \"Unnamed: 0\")\n",
        "  df.dropna(axis = 0, how=\"any\", inplace=True)\n",
        "  return df\n",
        "\n",
        "def fit_model(model_code: str, X: np.array, Y: np.array, n: int, k: int, flag_val):\n",
        "  mod = stan.build(model_code, data={\"X\": X, \"Y\": Y, \"n\": n, \"k\": k, \n",
        "                               \"do_prior_predictive\": flag_val})\n",
        "  return mod.sample()\n"
      ],
      "metadata": {
        "id": "k_zUYXChSbJZ"
      },
      "execution_count": 72,
      "outputs": []
    },
    {
      "cell_type": "code",
      "source": [
        "df_dict = {\"imputed\": read_data(\"final_frame_imputed.csv\"),\n",
        "           \"non_imputed\": read_data(\"final_frame_non_imputed.csv\")}"
      ],
      "metadata": {
        "id": "ebfdc2mfTKNo"
      },
      "execution_count": 69,
      "outputs": []
    },
    {
      "cell_type": "code",
      "source": [
        "stan_code = \"\"\"\n",
        "data {\n",
        "  int<lower=0> n;                // number of units\n",
        "  int<lower=0> k;                // number of covariates\n",
        "  matrix[n, k] X;            // covariates for each entry, including the intercept covariate\n",
        "  int<lower=1,upper=5> Y[n];     // categorical\n",
        "\n",
        "  int do_prior_predictive;\n",
        "}\n",
        "parameters {\n",
        "  vector[k] beta;            // the coefficients\n",
        "}\n",
        "transformed parameters {\n",
        "  vector[n] eta;                // linear predictors\n",
        "  eta = X * beta;\n",
        "}\n",
        "model {\n",
        "  beta ~ normal(0, 3);\n",
        "\n",
        "  if (do_prior_predictive != 1) {\n",
        "    for (i in 1:n)\n",
        "      Y[i] ~ categorical_logit(eta);\n",
        "  }\n",
        "}\n",
        "generated quantities {\n",
        "  int<lower=1,upper=5> Y_tilde[n];\n",
        "  for (i in 1:n)  \n",
        "    Y_tilde[i] = categorical_logit_rng(eta);  \n",
        "}\n",
        "\"\"\""
      ],
      "metadata": {
        "id": "8-lYrQWBUgwq"
      },
      "execution_count": 70,
      "outputs": []
    },
    {
      "cell_type": "code",
      "source": [
        "target_col = \"CHOICE\"\n",
        "prior_pred_dict = {}\n",
        "for key, df in df_dict.items():\n",
        "  covars = [cov for cov in list(df.columns) if cov not in target_col]\n",
        "  X = np.array(df[covars])\n",
        "  n = len(X)\n",
        "  X = np.concatenate((np.ones((n, 1)), X), axis=1)\n",
        "  Y = np.array(df[target_col], dtype=\"int64\")\n",
        "  k = X.shape[1]\n",
        "  prior_pred_dict[key] = fit_model(stan_code, X, Y, n, k, 1)"
      ],
      "metadata": {
        "colab": {
          "base_uri": "https://localhost:8080/"
        },
        "id": "FICIRLDwVXAL",
        "outputId": "7d2e13b7-59f3-4c4c-b9bc-61124be936bd"
      },
      "execution_count": null,
      "outputs": [
        {
          "output_type": "stream",
          "name": "stdout",
          "text": [
            "Building...\n"
          ]
        },
        {
          "output_type": "stream",
          "name": "stderr",
          "text": [
            "\n",
            "Building: found in cache, done.Sampling:   0%\n",
            "Sampling:   1% (100/8000)\n",
            "Sampling:   2% (200/8000)\n",
            "Sampling:   4% (300/8000)\n",
            "Sampling:   5% (400/8000)\n",
            "Sampling:   6% (500/8000)\n",
            "Sampling:   8% (600/8000)\n",
            "Sampling:   9% (700/8000)\n",
            "Sampling:  10% (800/8000)\n",
            "Sampling:  11% (900/8000)\n",
            "Sampling:  12% (1000/8000)\n",
            "Sampling:  14% (1100/8000)\n",
            "Sampling:  15% (1200/8000)\n",
            "Sampling:  16% (1300/8000)\n",
            "Sampling:  18% (1400/8000)\n",
            "Sampling:  19% (1500/8000)\n",
            "Sampling:  20% (1600/8000)\n",
            "Sampling:  21% (1700/8000)\n",
            "Sampling:  22% (1800/8000)\n",
            "Sampling:  24% (1900/8000)\n",
            "Sampling:  24% (1901/8000)\n",
            "Sampling:  25% (2002/8000)"
          ]
        }
      ]
    }
  ]
}